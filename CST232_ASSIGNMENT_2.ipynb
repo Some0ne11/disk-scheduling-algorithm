{
  "nbformat": 4,
  "nbformat_minor": 0,
  "metadata": {
    "colab": {
      "provenance": [],
      "collapsed_sections": [
        "HLUN2AMW4SCB",
        "xY4g3itI4I3N",
        "p13921CT45JV",
        "DnyNsbtx4Z0u",
        "PlxUlmP86icb",
        "pOATPw1u6poY",
        "wCxzgtUY7hw0",
        "OFWAOrQz779i",
        "I0d4G-eK8ONd",
        "kU0-d_C18XoK",
        "bc1c2cKr8ej_",
        "H5JF_77y8kUt",
        "At0IEixBAmgN",
        "Z9qik7N8Bng1",
        "Ifm7rJsOCDB8",
        "HDC9pvkVCXn1",
        "7Tv53bfGCnAU",
        "Mspwuej4C_o9",
        "AMGl2MysGei9",
        "TNe9x9xaGg1U",
        "xUoWPwWDGi89",
        "KpX8RDQEGlJU",
        "I7BaLuXmGm_V"
      ]
    },
    "kernelspec": {
      "name": "python3",
      "display_name": "Python 3"
    },
    "language_info": {
      "name": "python"
    }
  },
  "cells": [
    {
      "cell_type": "markdown",
      "source": [
        "# **PROGRAM CODES**\n",
        "\n",
        "TEAM MEMBER:\n",
        "1. Muhammad Ammar Danial Bin Abdullah (22301793)\n",
        "2. Ashman Bin Mohd Fauzi (22303774)\n",
        "3. Ng Xuan Hern (22304061)\n",
        "4. Lim Wei Ling (22306277)\n",
        "\n",
        "*Below is the program's code that we've used in our report for Assignment 2*"
      ],
      "metadata": {
        "id": "ngFT0GeM3Z77"
      }
    },
    {
      "cell_type": "markdown",
      "source": [
        "# 📌 **TASK 1**\n",
        "\n",
        "All codes was written in C Language for Task 1 (We didn't use C++ Language to follow the given question which was written in C)"
      ],
      "metadata": {
        "id": "HLUN2AMW4SCB"
      }
    },
    {
      "cell_type": "markdown",
      "source": [
        "## 1. Code Related To Semaphore"
      ],
      "metadata": {
        "id": "xY4g3itI4I3N"
      }
    },
    {
      "cell_type": "code",
      "source": [
        "%%writefile semaphore.c\n",
        "#include <stdio.h>\n",
        "//declare a semaphore variable\n",
        "volatile int semaphore = 1;\n",
        "\n",
        "//WAIT operation implemented as function\n",
        "void P(){\n",
        "\twhile(semaphore==0); //loop that wait until the semaphore is not equal to 0\n",
        "\t//critical section busy, semaphore is set to 0\n",
        "\tsemaphore = 0;\n",
        "}\n",
        "\n",
        "// SIGNAL operation implemented as function\n",
        "void V(){\n",
        "\t//critical section free, semaphore is set to 1\n",
        "\tsemaphore = 1;\n",
        "}\n",
        "int main(){\n",
        "\tprintf(\"Entering critical section...\\n\");\n",
        "\t//WAIT operation is called while entering critical section\n",
        "\tP();\n",
        "\tprintf(\"In critical section!\\n\");\n",
        "\t//SIGNAL operation is called while releasing the critical section\n",
        "\tV();\n",
        "\tprintf(\"Exited critical section.\\n\");\n",
        "\treturn 0;\n",
        "}"
      ],
      "metadata": {
        "colab": {
          "base_uri": "https://localhost:8080/"
        },
        "id": "qc25jCda4PLk",
        "outputId": "cbc6b332-0dd5-4e76-b9e3-24b90c566a09"
      },
      "execution_count": null,
      "outputs": [
        {
          "output_type": "stream",
          "name": "stdout",
          "text": [
            "Overwriting semaphore.c\n"
          ]
        }
      ]
    },
    {
      "cell_type": "code",
      "source": [
        "%%shell\n",
        "\n",
        "g++ semaphore.c -o semaphore.elf\n",
        "./semaphore.elf"
      ],
      "metadata": {
        "colab": {
          "base_uri": "https://localhost:8080/"
        },
        "id": "GppzV8TND5DF",
        "outputId": "601d1c7c-4a4f-48e8-aa1a-c7384152727d"
      },
      "execution_count": null,
      "outputs": [
        {
          "output_type": "stream",
          "name": "stdout",
          "text": [
            "Entering critical section...\n",
            "In critical section!\n",
            "Exited critical section.\n"
          ]
        },
        {
          "output_type": "execute_result",
          "data": {
            "text/plain": []
          },
          "metadata": {},
          "execution_count": 17
        }
      ]
    },
    {
      "cell_type": "markdown",
      "source": [
        "## 2. Modified Code related to Semaphore"
      ],
      "metadata": {
        "id": "p13921CT45JV"
      }
    },
    {
      "cell_type": "code",
      "source": [
        "%%writefile semaphoreModified.c\n",
        "#include <stdio.h>\n",
        "volatile int semaphore = 1;\n",
        "\n",
        "void P(){\n",
        "\twhile (semaphore==0);\n",
        "\tsemaphore=0;\n",
        "}\n",
        "\n",
        "void V(){\n",
        "\tsemaphore=1;\n",
        "}\n",
        "\n",
        "\n",
        "int main() {\n",
        "\tprintf(\"Value of Semaphore before entering critical section: %d\\n\", semaphore); //before entering critical region\n",
        "\n",
        "    printf(\"Entering critical section...\\n\");\n",
        "    P();\n",
        "    printf(\"In critical section!\\n\");\n",
        "    printf(\"Value of Semaphore in critical section: %d\\n\", semaphore); //value of semaphore in critical section\n",
        "\n",
        "    V();\n",
        "    printf(\"Exited critical section.\\n\");\n",
        "    printf(\"Value of Semaphore after exit critical section: %d\\n\", semaphore); //value of semaphore after calling V\n",
        "    return 0;\n",
        "}"
      ],
      "metadata": {
        "colab": {
          "base_uri": "https://localhost:8080/"
        },
        "id": "GxXS9V9y4_ZM",
        "outputId": "51f3cec4-6b1c-4dea-aab7-c4b76f5db053"
      },
      "execution_count": null,
      "outputs": [
        {
          "output_type": "stream",
          "name": "stdout",
          "text": [
            "Writing semaphoreModified.c\n"
          ]
        }
      ]
    },
    {
      "cell_type": "code",
      "source": [
        "%%shell\n",
        "\n",
        "g++ semaphoreModified.c -o semaphoreModified.elf\n",
        "./semaphoreModified.elf"
      ],
      "metadata": {
        "colab": {
          "base_uri": "https://localhost:8080/"
        },
        "id": "5KVNwfP3EOYM",
        "outputId": "9876e33c-69cb-4ea3-db63-ab0324d7b1f3"
      },
      "execution_count": null,
      "outputs": [
        {
          "output_type": "stream",
          "name": "stdout",
          "text": [
            "Value of Semaphore before entering critical section: 1\n",
            "Entering critical section...\n",
            "In critical section!\n",
            "Value of Semaphore in critical section: 0\n",
            "Exited critical section.\n",
            "Value of Semaphore after exit critical section: 1\n"
          ]
        },
        {
          "output_type": "execute_result",
          "data": {
            "text/plain": []
          },
          "metadata": {},
          "execution_count": 20
        }
      ]
    },
    {
      "cell_type": "markdown",
      "source": [
        "# 📌 **TASK 2**\n",
        "\n",
        "All codes was written in C++ Language for Task 2."
      ],
      "metadata": {
        "id": "DnyNsbtx4Z0u"
      }
    },
    {
      "cell_type": "markdown",
      "source": [
        "## **1. Algorithm's Code**\n",
        "\n",
        "In this section we only provide the source code of the program, to run it and do some testing, please navigate to section [\"2. Playground\"](#scrollTo=OFWAOrQz779i)"
      ],
      "metadata": {
        "id": "PlxUlmP86icb"
      }
    },
    {
      "cell_type": "markdown",
      "source": [
        "### (a) First Come First Serve (FCFS)"
      ],
      "metadata": {
        "id": "pOATPw1u6poY"
      }
    },
    {
      "cell_type": "code",
      "source": [
        "%%writefile fcfsv.cpp\n",
        "// C++ program to implement the FCFS Disk Scheduling Algorithm\n",
        "#include <iostream>\n",
        "#include <iomanip>\n",
        "#include <cmath>\n",
        "using namespace std;\n",
        "\n",
        "int main() {\n",
        "    // Declaring variables\n",
        "    int totalSeekTime = 0, initialHeadPos, totalNumOfCylinder, totalRequestQueue;\n",
        "\n",
        "    cout << \"First Come, First Serve (FCFS) Disk Scheduling Algorithm: \" << endl;\n",
        "\n",
        "    // Input the total number of cylinders on the disk\n",
        "    cout << \"\\n1. Please enter the total number of cylinders on the disk: \";\n",
        "    cin >> totalNumOfCylinder;\n",
        "\n",
        "    // Input the total number of I/O requests\n",
        "    cout << \"2. Please enter the total number of I/O requests: \";\n",
        "    cin >> totalRequestQueue;\n",
        "\n",
        "    // Input the initial/current head position of the disk with validation\n",
        "    do {\n",
        "        cout << \"3. Please enter the initial/current head position of the disk (0 to \"\n",
        "             << totalNumOfCylinder - 1 << \"): \";\n",
        "        cin >> initialHeadPos;\n",
        "        if (initialHeadPos < 0 || initialHeadPos >= totalNumOfCylinder) {\n",
        "            cout << \"Error: Initial head position must be between 0 and \"\n",
        "                 << totalNumOfCylinder - 1 << \". Please try again.\\n\";\n",
        "        }\n",
        "    } while (initialHeadPos < 0 || initialHeadPos >= totalNumOfCylinder);\n",
        "\n",
        "    // Declaring the list of I/O requests ans seek time.\n",
        "    int* io_requests = new int[totalRequestQueue];\n",
        "    int* seekTime = new int[totalRequestQueue];\n",
        "\n",
        "    // Input the I/O requests with validation.\n",
        "    cout << \"\\n4. Please enter the cylinder numbers in the Request Queue below:\\n\";\n",
        "    for (int i = 0; i < totalRequestQueue; i++) {\n",
        "        do {\n",
        "            cout << \"I/O request \" << i + 1 << \": \";\n",
        "            cin >> io_requests[i];\n",
        "            if (io_requests[i] < 0 || io_requests[i] >= totalNumOfCylinder) {\n",
        "                cout << \"Error: Cylinder number must be between 0 and \"\n",
        "                     << totalNumOfCylinder - 1 << \". Please re-enter.\\n\";\n",
        "            }\n",
        "        } while (io_requests[i] < 0 || io_requests[i] >= totalNumOfCylinder);\n",
        "    }\n",
        "\n",
        "    // Output the request sequence.\n",
        "    cout << \"\\n5. Request sequence: {\";\n",
        "    for (int i = 0; i < totalRequestQueue; i++) {\n",
        "        cout << io_requests[i];\n",
        "        if (i != totalRequestQueue - 1) {\n",
        "            cout << \", \";\n",
        "        }\n",
        "    }\n",
        "    cout << \"}\\n\";\n",
        "\n",
        "    // Calculate the total seek time and print the order of processing.\n",
        "    cout << \"\\n6. Order of processing: \";\n",
        "    cout << initialHeadPos << \" -> \";\n",
        "    int currentHeadPos = initialHeadPos;\n",
        "    for (int i = 0; i < totalRequestQueue; i++) {\n",
        "        seekTime[i] = abs(currentHeadPos - io_requests[i]);\n",
        "        totalSeekTime += seekTime[i];\n",
        "        currentHeadPos = io_requests[i];\n",
        "        cout << io_requests[i] << (i == totalRequestQueue - 1 ? \"\" : \" -> \");\n",
        "    }\n",
        "\n",
        "    // Output the results\n",
        "    cout << \"\\n7. Total Seek Time: \" << totalSeekTime << endl;\n",
        "    cout << \"8. Average Seek Time: \"\n",
        "         << static_cast<float>(totalSeekTime) / totalRequestQueue << endl;\n",
        "\n",
        "    // Summary Table:\n",
        "    cout << \"\\nSummary Table:\\n\";\n",
        "    cout << left << setw(15) << \"Request No.\" << setw(15)\n",
        "         << \"Cylinder No.\" << \"Seek Time\" << endl;\n",
        "    cout << \"------------------------------------------\\n\";\n",
        "    for (int i = 0; i < totalRequestQueue; i++) {\n",
        "        cout << left << setw(15) << i + 1 << setw(15)\n",
        "             << io_requests[i] << seekTime[i] << endl;\n",
        "    }\n",
        "    cout << \"-------------------------------------------\\n\";\n",
        "    cout << left << setw(30) << \" \" << totalSeekTime << endl;\n",
        "\n",
        "    delete[] io_requests;\n",
        "    delete[] seekTime;\n",
        "\n",
        "    return 0;\n",
        "}"
      ],
      "metadata": {
        "id": "lqsNY8fR4e5i",
        "colab": {
          "base_uri": "https://localhost:8080/"
        },
        "outputId": "065df642-65a9-45e8-fbf3-a23bc0e176e0"
      },
      "execution_count": null,
      "outputs": [
        {
          "output_type": "stream",
          "name": "stdout",
          "text": [
            "Writing fcfsv.cpp\n"
          ]
        }
      ]
    },
    {
      "cell_type": "markdown",
      "source": [
        "### (b) Shortest Seek Time First (SSTF)"
      ],
      "metadata": {
        "id": "wCxzgtUY7hw0"
      }
    },
    {
      "cell_type": "code",
      "source": [
        "%%writefile sstf.cpp\n",
        "#include <iostream>\n",
        "#include <iomanip>\n",
        "#include <cmath>\n",
        "\n",
        "using namespace std;\n",
        "\n",
        "int main() {\n",
        "    int totalSeekTime = 0, initialHeadPos, totalNumOfCylinder, totalRequestQueue;\n",
        "\n",
        "    cout << \"Shortest Seek Time First (SSTF) Disk Scheduling Algorithm: \" << endl;\n",
        "\n",
        "    cout << \"\\n1. Please enter the total number of cylinders on the disk: \";\n",
        "    cin >> totalNumOfCylinder;\n",
        "\n",
        "    cout << \"2. Please enter the total number of I/O requests: \";\n",
        "    cin >> totalRequestQueue;\n",
        "\n",
        "    cout << \"3. Please enter the initial/current head position of the disk (0 to \"\n",
        "         << totalNumOfCylinder - 1 << \"): \";\n",
        "    cin >> initialHeadPos;\n",
        "\n",
        "    while (initialHeadPos < 0 || initialHeadPos >= totalNumOfCylinder) {\n",
        "        cout << \"Error: Initial head position must be between 0 and \"\n",
        "             << totalNumOfCylinder - 1 << \". Please re-enter: \";\n",
        "        cin >> initialHeadPos;\n",
        "    }\n",
        "\n",
        "    int* io_requests = new int[totalRequestQueue];\n",
        "\n",
        "    cout << \"\\n4. Please enter the cylinder numbers in the Request Queue below:\" << endl;\n",
        "    for (int i = 0; i < totalRequestQueue; i++) {\n",
        "        cout << \"I/O request \" << i + 1 << \": \";\n",
        "        cin >> io_requests[i];\n",
        "\n",
        "        while (io_requests[i] < 0 || io_requests[i] >= totalNumOfCylinder) {\n",
        "            cout << \"Error: Cylinder number must be between 0 and \"\n",
        "                 << totalNumOfCylinder - 1 << \". Please re-enter: \";\n",
        "            cin >> io_requests[i];\n",
        "        }\n",
        "    }\n",
        "\n",
        "    cout << \"\\n5. Request sequence: {\";\n",
        "    for (int i = 0; i < totalRequestQueue; i++) {\n",
        "        cout << io_requests[i];\n",
        "        if (i != totalRequestQueue - 1) cout << \", \";\n",
        "    }\n",
        "    cout << \"}\\n\";\n",
        "\n",
        "    int* processingOrder = new int[totalRequestQueue];\n",
        "    int* seekTimes = new int[totalRequestQueue];\n",
        "    int processingIndex = 0;\n",
        "\n",
        "    cout << \"\\n6. Order of processing: \" << initialHeadPos;\n",
        "    while (totalRequestQueue > 0) {\n",
        "        // Find the request with the shortest seek time\n",
        "        int closestRequestIdx = -1;\n",
        "        int shortestSeekTime = 1000000; // A large number to compare seek times\n",
        "\n",
        "        for (int i = 0; i < totalRequestQueue; i++) {\n",
        "            int seekTime = abs(initialHeadPos - io_requests[i]);\n",
        "            if (seekTime < shortestSeekTime) {\n",
        "                shortestSeekTime = seekTime;\n",
        "                closestRequestIdx = i;\n",
        "            }\n",
        "        }\n",
        "\n",
        "        seekTimes[processingIndex] = shortestSeekTime;\n",
        "        totalSeekTime += shortestSeekTime;\n",
        "        initialHeadPos = io_requests[closestRequestIdx];\n",
        "\n",
        "        processingOrder[processingIndex++] = io_requests[closestRequestIdx];\n",
        "        cout << \" -> \" << io_requests[closestRequestIdx];\n",
        "\n",
        "        for (int i = closestRequestIdx; i < totalRequestQueue - 1; i++) {\n",
        "            io_requests[i] = io_requests[i + 1];\n",
        "        }\n",
        "\n",
        "        totalRequestQueue--;\n",
        "    }\n",
        "\n",
        "    cout << \"\\n7. Total Seek Time: \" << totalSeekTime << endl;\n",
        "    cout << \"8. Average Seek Time: \"\n",
        "         << fixed << setprecision(4) << static_cast<float>(totalSeekTime) / processingIndex << endl;\n",
        "\n",
        "    // Summary Table\n",
        "    cout << \"\\nSummary Table:\\n\";\n",
        "    cout << \"Request No.    Cylinder No.   Seek Time\\n\";\n",
        "    cout << \"------------------------------------------\\n\";\n",
        "    for (int i = 0; i < processingIndex; i++) {\n",
        "        cout << left << setw(15) << i + 1 << setw(15) << processingOrder[i]\n",
        "             << seekTimes[i] << endl;\n",
        "    }\n",
        "    cout << \"------------------------------------------\\n\";\n",
        "    cout << left << setw(30) << \" \" << totalSeekTime << endl;\n",
        "\n",
        "    delete[] io_requests;\n",
        "    delete[] processingOrder;\n",
        "    delete[] seekTimes;\n",
        "\n",
        "    return 0;\n",
        "}"
      ],
      "metadata": {
        "id": "soD1YeFk7mTs",
        "colab": {
          "base_uri": "https://localhost:8080/"
        },
        "outputId": "7d4bb50c-1e21-4e31-9ef4-6d584e51e44a"
      },
      "execution_count": null,
      "outputs": [
        {
          "output_type": "stream",
          "name": "stdout",
          "text": [
            "Writing sstf.cpp\n"
          ]
        }
      ]
    },
    {
      "cell_type": "markdown",
      "source": [
        "## **2. Playground**\n",
        "\n",
        "❗**Important:** Please run both of the codes for FCFS and SSTF algorithm in section [\"1. Algorithm's Code\"](#scrollTo=PlxUlmP86icb) first before using this section to test the input and output.\n",
        "\n",
        "There's existing sample for the input and ouput, feel free to modify based on your own input."
      ],
      "metadata": {
        "id": "OFWAOrQz779i"
      }
    },
    {
      "cell_type": "markdown",
      "source": [
        "### Run FCFS Codes Here:"
      ],
      "metadata": {
        "id": "I0d4G-eK8ONd"
      }
    },
    {
      "cell_type": "code",
      "source": [
        "%%shell\n",
        "\n",
        "g++ fcfsv.cpp -o fcfsv.elf\n",
        "./fcfsv.elf"
      ],
      "metadata": {
        "id": "6b3WP7t38BmK",
        "colab": {
          "base_uri": "https://localhost:8080/"
        },
        "outputId": "b7f5a1d4-041e-4cbf-bfab-dbc6567a3278"
      },
      "execution_count": null,
      "outputs": [
        {
          "output_type": "stream",
          "name": "stdout",
          "text": [
            "First Come, First Serve (FCFS) Disk Scheduling Algorithm: \n",
            "\n",
            "1. Please enter the total number of cylinders on the disk: 200\n",
            "2. Please enter the total number of I/O requests: 7\n",
            "3. Please enter the initial/current head position of the disk (0 to 199): 50\n",
            "\n",
            "4. Please enter the cylinder numbers in the Request Queue below:\n",
            "I/O request 1: 82\n",
            "I/O request 2: 170\n",
            "I/O request 3: 43\n",
            "I/O request 4: 140\n",
            "I/O request 5: 24\n",
            "I/O request 6: 16\n",
            "I/O request 7: 190\n",
            "\n",
            "5. Request sequence: {82, 170, 43, 140, 24, 16, 190}\n",
            "\n",
            "6. Order of processing: 50 -> 82 -> 170 -> 43 -> 140 -> 24 -> 16 -> 190\n",
            "7. Total Seek Time: 642\n",
            "8. Average Seek Time: 91.7143\n",
            "\n",
            "Summary Table:\n",
            "Request No.    Cylinder No.   Seek Time\n",
            "------------------------------------------\n",
            "1              82             32\n",
            "2              170            88\n",
            "3              43             127\n",
            "4              140            97\n",
            "5              24             116\n",
            "6              16             8\n",
            "7              190            174\n",
            "-------------------------------------------\n",
            "                              642\n"
          ]
        },
        {
          "output_type": "execute_result",
          "data": {
            "text/plain": []
          },
          "metadata": {},
          "execution_count": 21
        }
      ]
    },
    {
      "cell_type": "markdown",
      "source": [
        "### Run SSTF Codes Here:"
      ],
      "metadata": {
        "id": "kU0-d_C18XoK"
      }
    },
    {
      "cell_type": "code",
      "source": [
        "%%shell\n",
        "\n",
        "g++ sstf.cpp -o sstf.elf\n",
        "./sstf.elf"
      ],
      "metadata": {
        "id": "1GiAuvz58bV2",
        "colab": {
          "base_uri": "https://localhost:8080/"
        },
        "outputId": "804492e1-8fac-430e-b0d6-f64b1716246f"
      },
      "execution_count": null,
      "outputs": [
        {
          "output_type": "stream",
          "name": "stdout",
          "text": [
            "Shortest Seek Time First (SSTF) Disk Scheduling Algorithm: \n",
            "\n",
            "1. Please enter the total number of cylinders on the disk: 200\n",
            "2. Please enter the total number of I/O requests: 7\n",
            "3. Please enter the initial/current head position of the disk (0 to 199): 50\n",
            "\n",
            "4. Please enter the cylinder numbers in the Request Queue below:\n",
            "I/O request 1: 82\n",
            "I/O request 2: 170\n",
            "I/O request 3: 43\n",
            "I/O request 4: 140\n",
            "I/O request 5: 24\n",
            "I/O request 6: 16\n",
            "I/O request 7: 190\n",
            "\n",
            "5. Request sequence: {82, 170, 43, 140, 24, 16, 190}\n",
            "\n",
            "6. Order of processing: 50 -> 43 -> 24 -> 16 -> 82 -> 140 -> 170 -> 190\n",
            "7. Total Seek Time: 208\n",
            "8. Average Seek Time: 29.7143\n",
            "\n",
            "Summary Table:\n",
            "Request No.    Cylinder No.   Seek Time\n",
            "------------------------------------------\n",
            "1              43             7\n",
            "2              24             19\n",
            "3              16             8\n",
            "4              82             66\n",
            "5              140            58\n",
            "6              170            30\n",
            "7              190            20\n",
            "------------------------------------------\n",
            "                              208\n"
          ]
        },
        {
          "output_type": "execute_result",
          "data": {
            "text/plain": []
          },
          "metadata": {},
          "execution_count": 22
        }
      ]
    },
    {
      "cell_type": "markdown",
      "source": [
        "## **3. Test Cases**\n",
        "\n",
        "In this section we will showcase all the test case's input/output that we've done in the report.\n",
        "\n",
        "⚠️ Please **do not** run any of the test case below. This is **strictly** for **view only** section.\n",
        "\n",
        "To test any of the code for the algorithm, please navigate to section [\"2. Playground\"](#scrollTo=OFWAOrQz779i)"
      ],
      "metadata": {
        "id": "bc1c2cKr8ej_"
      }
    },
    {
      "cell_type": "markdown",
      "source": [
        "### (a) FCFS"
      ],
      "metadata": {
        "id": "H5JF_77y8kUt"
      }
    },
    {
      "cell_type": "markdown",
      "source": [
        "#### Test Case 1:"
      ],
      "metadata": {
        "id": "At0IEixBAmgN"
      }
    },
    {
      "cell_type": "code",
      "source": [
        "%%shell\n",
        "\n",
        "g++ fcfsv.cpp -o fcfsv.elf\n",
        "./fcfsv.elf"
      ],
      "metadata": {
        "id": "7lMwg0zK8jw7",
        "colab": {
          "base_uri": "https://localhost:8080/"
        },
        "outputId": "72ee2ff8-bb51-4cb4-deee-35f634a43f36"
      },
      "execution_count": null,
      "outputs": [
        {
          "output_type": "stream",
          "name": "stdout",
          "text": [
            "First Come, First Serve (FCFS) Disk Scheduling Algorithm: \n",
            "\n",
            "1. Please enter the total number of cylinders on the disk: 100\n",
            "2. Please enter the total number of I/O requests: 5\n",
            "3. Please enter the initial/current head position of the disk (0 to 99): 50\n",
            "\n",
            "4. Please enter the cylinder numbers in the Request Queue below:\n",
            "I/O request 1: 40\n",
            "I/O request 2: 45\n",
            "I/O request 3: 50\n",
            "I/O request 4: 55\n",
            "I/O request 5: 60\n",
            "\n",
            "5. Request sequence: {40, 45, 50, 55, 60}\n",
            "\n",
            "6. Order of processing: 50 -> 40 -> 45 -> 50 -> 55 -> 60\n",
            "7. Total Seek Time: 30\n",
            "8. Average Seek Time: 6\n",
            "\n",
            "Summary Table:\n",
            "Request No.    Cylinder No.   Seek Time\n",
            "------------------------------------------\n",
            "1              40             10\n",
            "2              45             5\n",
            "3              50             5\n",
            "4              55             5\n",
            "5              60             5\n",
            "-------------------------------------------\n",
            "                              30\n"
          ]
        },
        {
          "output_type": "execute_result",
          "data": {
            "text/plain": []
          },
          "metadata": {},
          "execution_count": 7
        }
      ]
    },
    {
      "cell_type": "markdown",
      "source": [
        "#### Test Case 2:"
      ],
      "metadata": {
        "id": "Z9qik7N8Bng1"
      }
    },
    {
      "cell_type": "code",
      "source": [
        "%%shell\n",
        "\n",
        "g++ fcfsv.cpp -o fcfsv.elf\n",
        "./fcfsv.elf"
      ],
      "metadata": {
        "colab": {
          "base_uri": "https://localhost:8080/"
        },
        "id": "ejREKDsdBvr1",
        "outputId": "d4229aa7-1982-4737-f896-dd6acbca6488"
      },
      "execution_count": null,
      "outputs": [
        {
          "output_type": "stream",
          "name": "stdout",
          "text": [
            "First Come, First Serve (FCFS) Disk Scheduling Algorithm: \n",
            "\n",
            "1. Please enter the total number of cylinders on the disk: 300\n",
            "2. Please enter the total number of I/O requests: 6\n",
            "3. Please enter the initial/current head position of the disk (0 to 299): 150\n",
            "\n",
            "4. Please enter the cylinder numbers in the Request Queue below:\n",
            "I/O request 1: 10\n",
            "I/O request 2: 250\n",
            "I/O request 3: 20\n",
            "I/O request 4: 240\n",
            "I/O request 5: 30\n",
            "I/O request 6: 230\n",
            "\n",
            "5. Request sequence: {10, 250, 20, 240, 30, 230}\n",
            "\n",
            "6. Order of processing: 150 -> 10 -> 250 -> 20 -> 240 -> 30 -> 230\n",
            "7. Total Seek Time: 1240\n",
            "8. Average Seek Time: 206.667\n",
            "\n",
            "Summary Table:\n",
            "Request No.    Cylinder No.   Seek Time\n",
            "------------------------------------------\n",
            "1              10             140\n",
            "2              250            240\n",
            "3              20             230\n",
            "4              240            220\n",
            "5              30             210\n",
            "6              230            200\n",
            "-------------------------------------------\n",
            "                              1240\n"
          ]
        },
        {
          "output_type": "execute_result",
          "data": {
            "text/plain": []
          },
          "metadata": {},
          "execution_count": 8
        }
      ]
    },
    {
      "cell_type": "markdown",
      "source": [
        "#### Test Case 3:"
      ],
      "metadata": {
        "id": "Ifm7rJsOCDB8"
      }
    },
    {
      "cell_type": "code",
      "source": [
        "%%shell\n",
        "\n",
        "g++ fcfsv.cpp -o fcfsv.elf\n",
        "./fcfsv.elf"
      ],
      "metadata": {
        "colab": {
          "base_uri": "https://localhost:8080/"
        },
        "id": "JWgxT9NqCG40",
        "outputId": "542b51f8-1c0a-4b46-90bf-058d2be92a5d"
      },
      "execution_count": null,
      "outputs": [
        {
          "output_type": "stream",
          "name": "stdout",
          "text": [
            "First Come, First Serve (FCFS) Disk Scheduling Algorithm: \n",
            "\n",
            "1. Please enter the total number of cylinders on the disk: 200\n",
            "2. Please enter the total number of I/O requests: 7\n",
            "3. Please enter the initial/current head position of the disk (0 to 199): 50\n",
            "\n",
            "4. Please enter the cylinder numbers in the Request Queue below:\n",
            "I/O request 1: 10\n",
            "I/O request 2: 20\n",
            "I/O request 3: 30\n",
            "I/O request 4: 40\n",
            "I/O request 5: 150\n",
            "I/O request 6: 160\n",
            "I/O request 7: 170\n",
            "\n",
            "5. Request sequence: {10, 20, 30, 40, 150, 160, 170}\n",
            "\n",
            "6. Order of processing: 50 -> 10 -> 20 -> 30 -> 40 -> 150 -> 160 -> 170\n",
            "7. Total Seek Time: 200\n",
            "8. Average Seek Time: 28.5714\n",
            "\n",
            "Summary Table:\n",
            "Request No.    Cylinder No.   Seek Time\n",
            "------------------------------------------\n",
            "1              10             40\n",
            "2              20             10\n",
            "3              30             10\n",
            "4              40             10\n",
            "5              150            110\n",
            "6              160            10\n",
            "7              170            10\n",
            "-------------------------------------------\n",
            "                              200\n"
          ]
        },
        {
          "output_type": "execute_result",
          "data": {
            "text/plain": []
          },
          "metadata": {},
          "execution_count": 9
        }
      ]
    },
    {
      "cell_type": "markdown",
      "source": [
        "#### Test Case 4:"
      ],
      "metadata": {
        "id": "HDC9pvkVCXn1"
      }
    },
    {
      "cell_type": "code",
      "source": [
        "%%shell\n",
        "\n",
        "g++ fcfsv.cpp -o fcfsv.elf\n",
        "./fcfsv.elf"
      ],
      "metadata": {
        "colab": {
          "base_uri": "https://localhost:8080/"
        },
        "id": "OEShsrT4CZVJ",
        "outputId": "7601d11b-fbbb-40a1-8c9f-cae127377458"
      },
      "execution_count": null,
      "outputs": [
        {
          "output_type": "stream",
          "name": "stdout",
          "text": [
            "First Come, First Serve (FCFS) Disk Scheduling Algorithm: \n",
            "\n",
            "1. Please enter the total number of cylinders on the disk: 250\n",
            "2. Please enter the total number of I/O requests: 6\n",
            "3. Please enter the initial/current head position of the disk (0 to 249): 100\n",
            "\n",
            "4. Please enter the cylinder numbers in the Request Queue below:\n",
            "I/O request 1: 200\n",
            "I/O request 2: 10\n",
            "I/O request 3: 190\n",
            "I/O request 4: 20\n",
            "I/O request 5: 180\n",
            "I/O request 6: 30\n",
            "\n",
            "5. Request sequence: {200, 10, 190, 20, 180, 30}\n",
            "\n",
            "6. Order of processing: 100 -> 200 -> 10 -> 190 -> 20 -> 180 -> 30\n",
            "7. Total Seek Time: 950\n",
            "8. Average Seek Time: 158.333\n",
            "\n",
            "Summary Table:\n",
            "Request No.    Cylinder No.   Seek Time\n",
            "------------------------------------------\n",
            "1              200            100\n",
            "2              10             190\n",
            "3              190            180\n",
            "4              20             170\n",
            "5              180            160\n",
            "6              30             150\n",
            "-------------------------------------------\n",
            "                              950\n"
          ]
        },
        {
          "output_type": "execute_result",
          "data": {
            "text/plain": []
          },
          "metadata": {},
          "execution_count": 10
        }
      ]
    },
    {
      "cell_type": "markdown",
      "source": [
        "#### Test Case 5:"
      ],
      "metadata": {
        "id": "7Tv53bfGCnAU"
      }
    },
    {
      "cell_type": "code",
      "source": [
        "%%shell\n",
        "\n",
        "g++ fcfsv.cpp -o fcfsv.elf\n",
        "./fcfsv.elf"
      ],
      "metadata": {
        "colab": {
          "base_uri": "https://localhost:8080/"
        },
        "id": "t5iAk6HaCoj3",
        "outputId": "f2726a81-3ed3-4b0c-8681-35c7789f01bf"
      },
      "execution_count": null,
      "outputs": [
        {
          "output_type": "stream",
          "name": "stdout",
          "text": [
            "First Come, First Serve (FCFS) Disk Scheduling Algorithm: \n",
            "\n",
            "1. Please enter the total number of cylinders on the disk: 250\n",
            "2. Please enter the total number of I/O requests: 8\n",
            "3. Please enter the initial/current head position of the disk (0 to 249): 50\n",
            "\n",
            "4. Please enter the cylinder numbers in the Request Queue below:\n",
            "I/O request 1: 10\n",
            "I/O request 2: 200\n",
            "I/O request 3: 30\n",
            "I/O request 4: 220\n",
            "I/O request 5: 40\n",
            "I/O request 6: 210\n",
            "I/O request 7: 50\n",
            "I/O request 8: 190\n",
            "\n",
            "5. Request sequence: {10, 200, 30, 220, 40, 210, 50, 190}\n",
            "\n",
            "6. Order of processing: 50 -> 10 -> 200 -> 30 -> 220 -> 40 -> 210 -> 50 -> 190\n",
            "7. Total Seek Time: 1240\n",
            "8. Average Seek Time: 155\n",
            "\n",
            "Summary Table:\n",
            "Request No.    Cylinder No.   Seek Time\n",
            "------------------------------------------\n",
            "1              10             40\n",
            "2              200            190\n",
            "3              30             170\n",
            "4              220            190\n",
            "5              40             180\n",
            "6              210            170\n",
            "7              50             160\n",
            "8              190            140\n",
            "-------------------------------------------\n",
            "                              1240\n"
          ]
        },
        {
          "output_type": "execute_result",
          "data": {
            "text/plain": []
          },
          "metadata": {},
          "execution_count": 11
        }
      ]
    },
    {
      "cell_type": "markdown",
      "source": [
        "### (b) SSTF"
      ],
      "metadata": {
        "id": "Mspwuej4C_o9"
      }
    },
    {
      "cell_type": "markdown",
      "source": [
        "#### Test Case 1:"
      ],
      "metadata": {
        "id": "AMGl2MysGei9"
      }
    },
    {
      "cell_type": "code",
      "source": [
        "%%shell\n",
        "\n",
        "g++ sstf.cpp -o sstf.elf\n",
        "./sstf.elf"
      ],
      "metadata": {
        "colab": {
          "base_uri": "https://localhost:8080/"
        },
        "id": "h5IZzsvcGgQf",
        "outputId": "d1c0c7ef-a8fb-4ece-95f6-6de84658d888"
      },
      "execution_count": null,
      "outputs": [
        {
          "output_type": "stream",
          "name": "stdout",
          "text": [
            "Shortest Seek Time First (SSTF) Disk Scheduling Algorithm: \n",
            "\n",
            "1. Please enter the total number of cylinders on the disk: 100\n",
            "2. Please enter the total number of I/O requests: 5\n",
            "3. Please enter the initial/current head position of the disk (0 to 99): 50\n",
            "\n",
            "4. Please enter the cylinder numbers in the Request Queue below:\n",
            "I/O request 1: 40\n",
            "I/O request 2: 45\n",
            "I/O request 3: 50\n",
            "I/O request 4: 55\n",
            "I/O request 5: 60\n",
            "\n",
            "5. Request sequence: {40, 45, 50, 55, 60}\n",
            "\n",
            "6. Order of processing: 50 -> 50 -> 45 -> 40 -> 55 -> 60\n",
            "7. Total Seek Time: 30\n",
            "8. Average Seek Time: 6.0000\n",
            "\n",
            "Summary Table:\n",
            "Request No.    Cylinder No.   Seek Time\n",
            "------------------------------------------\n",
            "1              50             0\n",
            "2              45             5\n",
            "3              40             5\n",
            "4              55             15\n",
            "5              60             5\n",
            "------------------------------------------\n",
            "                              30\n"
          ]
        },
        {
          "output_type": "execute_result",
          "data": {
            "text/plain": []
          },
          "metadata": {},
          "execution_count": 23
        }
      ]
    },
    {
      "cell_type": "markdown",
      "source": [
        "#### Test Case 2:"
      ],
      "metadata": {
        "id": "TNe9x9xaGg1U"
      }
    },
    {
      "cell_type": "code",
      "source": [
        "%%shell\n",
        "\n",
        "g++ sstf.cpp -o sstf.elf\n",
        "./sstf.elf"
      ],
      "metadata": {
        "colab": {
          "base_uri": "https://localhost:8080/"
        },
        "id": "YXiqaynRGiSC",
        "outputId": "16b0f3ee-90af-40f4-e733-4e96d6a4a346"
      },
      "execution_count": null,
      "outputs": [
        {
          "output_type": "stream",
          "name": "stdout",
          "text": [
            "Shortest Seek Time First (SSTF) Disk Scheduling Algorithm: \n",
            "\n",
            "1. Please enter the total number of cylinders on the disk: 300\n",
            "2. Please enter the total number of I/O requests: 6\n",
            "3. Please enter the initial/current head position of the disk (0 to 299): 150\n",
            "\n",
            "4. Please enter the cylinder numbers in the Request Queue below:\n",
            "I/O request 1: 10\n",
            "I/O request 2: 250\n",
            "I/O request 3: 20\n",
            "I/O request 4: 240\n",
            "I/O request 5: 30\n",
            "I/O request 6: 230\n",
            "\n",
            "5. Request sequence: {10, 250, 20, 240, 30, 230}\n",
            "\n",
            "6. Order of processing: 150 -> 230 -> 240 -> 250 -> 30 -> 20 -> 10\n",
            "7. Total Seek Time: 340\n",
            "8. Average Seek Time: 56.6667\n",
            "\n",
            "Summary Table:\n",
            "Request No.    Cylinder No.   Seek Time\n",
            "------------------------------------------\n",
            "1              230            80\n",
            "2              240            10\n",
            "3              250            10\n",
            "4              30             220\n",
            "5              20             10\n",
            "6              10             10\n",
            "------------------------------------------\n",
            "                              340\n"
          ]
        },
        {
          "output_type": "execute_result",
          "data": {
            "text/plain": []
          },
          "metadata": {},
          "execution_count": 24
        }
      ]
    },
    {
      "cell_type": "markdown",
      "source": [
        "#### Test Case 3:"
      ],
      "metadata": {
        "id": "xUoWPwWDGi89"
      }
    },
    {
      "cell_type": "code",
      "source": [
        "%%shell\n",
        "\n",
        "g++ sstf.cpp -o sstf.elf\n",
        "./sstf.elf"
      ],
      "metadata": {
        "colab": {
          "base_uri": "https://localhost:8080/"
        },
        "id": "oVzXQ1t4GkeR",
        "outputId": "b0ed9374-41e0-4184-dfb0-9f1ad7de3375"
      },
      "execution_count": null,
      "outputs": [
        {
          "output_type": "stream",
          "name": "stdout",
          "text": [
            "Shortest Seek Time First (SSTF) Disk Scheduling Algorithm: \n",
            "\n",
            "1. Please enter the total number of cylinders on the disk: 200\n",
            "2. Please enter the total number of I/O requests: 7\n",
            "3. Please enter the initial/current head position of the disk (0 to 199): 50\n",
            "\n",
            "4. Please enter the cylinder numbers in the Request Queue below:\n",
            "I/O request 1: 10\n",
            "I/O request 2: 20\n",
            "I/O request 3: 30\n",
            "I/O request 4: 40\n",
            "I/O request 5: 150\n",
            "I/O request 6: 160\n",
            "I/O request 7: 170\n",
            "\n",
            "5. Request sequence: {10, 20, 30, 40, 150, 160, 170}\n",
            "\n",
            "6. Order of processing: 50 -> 40 -> 30 -> 20 -> 10 -> 150 -> 160 -> 170\n",
            "7. Total Seek Time: 200\n",
            "8. Average Seek Time: 28.5714\n",
            "\n",
            "Summary Table:\n",
            "Request No.    Cylinder No.   Seek Time\n",
            "------------------------------------------\n",
            "1              40             10\n",
            "2              30             10\n",
            "3              20             10\n",
            "4              10             10\n",
            "5              150            140\n",
            "6              160            10\n",
            "7              170            10\n",
            "------------------------------------------\n",
            "                              200\n"
          ]
        },
        {
          "output_type": "execute_result",
          "data": {
            "text/plain": []
          },
          "metadata": {},
          "execution_count": 25
        }
      ]
    },
    {
      "cell_type": "markdown",
      "source": [
        "#### Test Case 4:"
      ],
      "metadata": {
        "id": "KpX8RDQEGlJU"
      }
    },
    {
      "cell_type": "code",
      "source": [
        "%%shell\n",
        "\n",
        "g++ sstf.cpp -o sstf.elf\n",
        "./sstf.elf"
      ],
      "metadata": {
        "colab": {
          "base_uri": "https://localhost:8080/"
        },
        "id": "8tyTDlc4GmdQ",
        "outputId": "cf7d4829-92ba-490e-ea6c-3600721e2ef2"
      },
      "execution_count": null,
      "outputs": [
        {
          "output_type": "stream",
          "name": "stdout",
          "text": [
            "Shortest Seek Time First (SSTF) Disk Scheduling Algorithm: \n",
            "\n",
            "1. Please enter the total number of cylinders on the disk: 250\n",
            "2. Please enter the total number of I/O requests: 6\n",
            "3. Please enter the initial/current head position of the disk (0 to 249): 100\n",
            "\n",
            "4. Please enter the cylinder numbers in the Request Queue below:\n",
            "I/O request 1: 200\n",
            "I/O request 2: 10\n",
            "I/O request 3: 190\n",
            "I/O request 4: 20\n",
            "I/O request 5: 180\n",
            "I/O request 6: 30\n",
            "\n",
            "5. Request sequence: {200, 10, 190, 20, 180, 30}\n",
            "\n",
            "6. Order of processing: 100 -> 30 -> 20 -> 10 -> 180 -> 190 -> 200\n",
            "7. Total Seek Time: 280\n",
            "8. Average Seek Time: 46.6667\n",
            "\n",
            "Summary Table:\n",
            "Request No.    Cylinder No.   Seek Time\n",
            "------------------------------------------\n",
            "1              30             70\n",
            "2              20             10\n",
            "3              10             10\n",
            "4              180            170\n",
            "5              190            10\n",
            "6              200            10\n",
            "------------------------------------------\n",
            "                              280\n"
          ]
        },
        {
          "output_type": "execute_result",
          "data": {
            "text/plain": []
          },
          "metadata": {},
          "execution_count": 26
        }
      ]
    },
    {
      "cell_type": "markdown",
      "source": [
        "#### Test Case 5:"
      ],
      "metadata": {
        "id": "I7BaLuXmGm_V"
      }
    },
    {
      "cell_type": "code",
      "source": [
        "%%shell\n",
        "\n",
        "g++ sstf.cpp -o sstf.elf\n",
        "./sstf.elf"
      ],
      "metadata": {
        "colab": {
          "base_uri": "https://localhost:8080/"
        },
        "id": "thc-f31BGoT6",
        "outputId": "2a96805f-22b8-43ad-ed13-f2e7574a0a7f"
      },
      "execution_count": null,
      "outputs": [
        {
          "output_type": "stream",
          "name": "stdout",
          "text": [
            "Shortest Seek Time First (SSTF) Disk Scheduling Algorithm: \n",
            "\n",
            "1. Please enter the total number of cylinders on the disk: 250\n",
            "2. Please enter the total number of I/O requests: 8\n",
            "3. Please enter the initial/current head position of the disk (0 to 249): 50\n",
            "\n",
            "4. Please enter the cylinder numbers in the Request Queue below:\n",
            "I/O request 1: 10\n",
            "I/O request 2: 200\n",
            "I/O request 3: 30\n",
            "I/O request 4: 220\n",
            "I/O request 5: 40\n",
            "I/O request 6: 210\n",
            "I/O request 7: 50\n",
            "I/O request 8: 190\n",
            "\n",
            "5. Request sequence: {10, 200, 30, 220, 40, 210, 50, 190}\n",
            "\n",
            "6. Order of processing: 50 -> 50 -> 40 -> 30 -> 10 -> 190 -> 200 -> 210 -> 220\n",
            "7. Total Seek Time: 250\n",
            "8. Average Seek Time: 31.2500\n",
            "\n",
            "Summary Table:\n",
            "Request No.    Cylinder No.   Seek Time\n",
            "------------------------------------------\n",
            "1              50             0\n",
            "2              40             10\n",
            "3              30             10\n",
            "4              10             20\n",
            "5              190            180\n",
            "6              200            10\n",
            "7              210            10\n",
            "8              220            10\n",
            "------------------------------------------\n",
            "                              250\n"
          ]
        },
        {
          "output_type": "execute_result",
          "data": {
            "text/plain": []
          },
          "metadata": {},
          "execution_count": 27
        }
      ]
    }
  ]
}